{
 "cells": [
  {
   "cell_type": "code",
   "execution_count": null,
   "metadata": {},
   "outputs": [
    {
     "name": "stdout",
     "output_type": "stream",
     "text": [
      "Requirement already satisfied: mysql-connector-python in c:\\users\\user\\appdata\\local\\programs\\python\\python313\\lib\\site-packages (9.2.0)\n",
      "Note: you may need to restart the kernel to use updated packages.\n"
     ]
    },
    {
     "name": "stderr",
     "output_type": "stream",
     "text": [
      "\n",
      "[notice] A new release of pip is available: 24.3.1 -> 25.0\n",
      "[notice] To update, run: python.exe -m pip install --upgrade pip\n"
     ]
    }
   ],
   "source": [
    "pip install mysql-connector-python"
   ]
  },
  {
   "cell_type": "code",
   "execution_count": 42,
   "metadata": {},
   "outputs": [
    {
     "name": "stdout",
     "output_type": "stream",
     "text": [
      "<mysql.connector.connection_cext.CMySQLConnection object at 0x0000024186F5CF50>\n"
     ]
    }
   ],
   "source": [
    "# pip install mysql-connector-python\n",
    "import mysql.connector\n",
    "\n",
    "# Creating connection object\n",
    "mydb_conn = mysql.connector.connect(\n",
    "    host = \"127.0.0.1\",\n",
    "    user = \"root\",\n",
    "    password = \"Hana@@##1234\",\n",
    "    port=3306,\n",
    "    database='library'\n",
    ")\n",
    "\n",
    "# Printing the connection object \n",
    "print(mydb_conn)"
   ]
  },
  {
   "cell_type": "code",
   "execution_count": 43,
   "metadata": {},
   "outputs": [
    {
     "data": {
      "text/plain": [
       "<mysql.connector.cursor_cext.CMySQLCursor at 0x24187437390>"
      ]
     },
     "execution_count": 43,
     "metadata": {},
     "output_type": "execute_result"
    }
   ],
   "source": [
    "cursor = mydb_conn.cursor()\n",
    "cursor"
   ]
  },
  {
   "cell_type": "code",
   "execution_count": 44,
   "metadata": {},
   "outputs": [
    {
     "data": {
      "text/plain": [
       "[(1,\n",
       "  'Walden, and On The Duty Of Civil Disobedience',\n",
       "  'Henry David Thoreau',\n",
       "  1849,\n",
       "  3100471153),\n",
       " (2, 'The Scarlet Letter', 'Nathaniel Hawthorne', 1850, 4589408958),\n",
       " (3,\n",
       "  'The Adventures of Sherlock Holmes',\n",
       "  'Arthur Conan Doyle',\n",
       "  1892,\n",
       "  2411676280),\n",
       " (4, 'The Adventures of Tom Sawyer', 'Mark Twain', 1876, 7813216705),\n",
       " (5, 'David Copperfield', 'Charles Dickens', 1850, 8821265677),\n",
       " (6, 'A Modest Proposal', 'Jonathan Swift', 1729, 9675136364),\n",
       " (7, 'The Sign of the Four', 'Arthur Conan Doyle', 1890, 9615072124),\n",
       " (8,\n",
       "  'The Importance of Being Earnest: A Trivial Comedy for Serious People',\n",
       "  'Oscar Wilde',\n",
       "  1895,\n",
       "  4733732465),\n",
       " (9, \"Uncle Tom's Cabin\", 'Harriet Beecher Stowe', 1852, 1874764443),\n",
       " (10, 'The Count of Monte Cristo', 'Alexandre Dumas', 1884, 1799238621),\n",
       " (11, 'The Picture of Dorian Gray', 'Oscar Wilde', 1890, 2855934983),\n",
       " (12, 'Dracula', 'Bram Stoker', 1897, 8232533734),\n",
       " (13, 'Oliver Twist', 'Charles Dickens', 1839, 3071366111),\n",
       " (14,\n",
       "  'The Awakening, and Selected Short Stories',\n",
       "  'Kate Chopin',\n",
       "  1899,\n",
       "  3103139173),\n",
       " (15, 'The Time Machine', 'H. G. Wells', 1895, 9610930110),\n",
       " (16, 'Ulysses', 'James Joyce', 1922, 1472300125),\n",
       " (17, 'Les Misérables', 'Victor Hugo', 1895, 8252831254),\n",
       " (18, 'The Jungle Book', 'Rudyard Kipling', 1894, 3655763446),\n",
       " (19, 'Heart of Darkness', 'Joseph Conrad', 1899, 9334362486),\n",
       " (20, 'Treasure Island', 'Robert Louis Stevenson', 1883, 8563911061),\n",
       " (21, 'The Prince', 'Niccolò Machiavelli', 1532, 2656649474),\n",
       " (22, 'Adventures of Huckleberry Finn', 'Mark Twain', 1884, 8537695057),\n",
       " (23, 'Great Expectations', 'Charles Dickens', 1861, 5314419343),\n",
       " (24, 'Candide', 'Voltaire', 1759, 1026835475),\n",
       " (25,\n",
       "  'The Life and Adventures of Robinson Crusoe',\n",
       "  'Daniel Defoe',\n",
       "  1791,\n",
       "  7614272194),\n",
       " (26,\n",
       "  'The Adventures of Sherlock Holmes',\n",
       "  'Arthur Conan Doyle',\n",
       "  1892,\n",
       "  6117891368),\n",
       " (27, 'Wuthering Heights', 'Emily Brontë', 1847, 9622357787),\n",
       " (28, 'Heart of Darkness', 'Joseph Conrad', 1899, 2229312049),\n",
       " (29, 'A Modest Proposal', 'Jonathan Swift', 1729, 3056621645),\n",
       " (30, 'On the origin of species', 'Charles Darwin', 1859, 6010636156),\n",
       " (31,\n",
       "  \"Gulliver's Travels into Several Remote Nations of the World\",\n",
       "  'Jonathan Swift',\n",
       "  1726,\n",
       "  4649890037),\n",
       " (32, 'The Wonderful Wizard of Oz', 'L. Frank Baum', 1900, 9402443064),\n",
       " (33, 'Peter Pan', 'J. M. Barrie', 1911, 2793883256),\n",
       " (34, 'The Tale of Peter Rabbit', 'Beatrix Potter', 1901, 5748337449),\n",
       " (35, 'The Brothers Karamazov', 'Fyodor Dostoyevsky', 1880, 1218723292),\n",
       " (36, 'Great Expectations', 'Charles Dickens', 1861, 9050209500),\n",
       " (37, \"A Doll's House\", 'Henrik Ibsen', 1879, 3039350069),\n",
       " (38, 'Dubliners', 'James Joyce', 1914, 6886459965),\n",
       " (39, 'The Adventures of Tom Sawyer', 'Mark Twain', 1876, 1493041269),\n",
       " (40,\n",
       "  'Three Men in a Boat (To Say Nothing of the Dog)',\n",
       "  'Jerome K. Jerome',\n",
       "  1889,\n",
       "  4746758842),\n",
       " (41, 'The Scarlet Letter', 'Nathaniel Hawthorne', 1850, 8329029559),\n",
       " (42, 'The Prince', 'Niccolò Machiavelli', 1532, 6151512619),\n",
       " (43, 'The Yellow Wallpaper', 'Charlotte Perkins Gilman', 1892, 7476179474),\n",
       " (44, 'Pygmalion', 'Bernard Shaw', 1913, 6340638269),\n",
       " (45, 'The Secret Garden', 'Frances Hodgson Burnett', 1911, 9948565822),\n",
       " (46, 'Sense and Sensibility', 'Jane Austen', 1811, 5677520613),\n",
       " (47, 'Anne of Green Gables', 'L. M. Montgomery', 1908, 5419570516),\n",
       " (48, 'The Hound of the Baskervilles', 'Arthur Conan Doyle', 1902, 7367316687),\n",
       " (49, \"Alice's Adventures in Wonderland\", 'Lewis Carroll', 1865, 9617441017),\n",
       " (50, 'Jane Eyre: An Autobiography', 'Charlotte Brontë', 1847, 3641717422),\n",
       " (51, 'Dubliners', 'James Joyce', 1914, 9924891502),\n",
       " (52, 'David Copperfield', 'Charles Dickens', 1850, 6705736665),\n",
       " (53, \"Uncle Tom's Cabin\", 'Harriet Beecher Stowe', 1852, 7816127580),\n",
       " (54, 'The Yellow Wallpaper', 'Charlotte Perkins Gilman', 1892, 2503974912),\n",
       " (55, 'An Occurrence at Owl Creek Bridge', 'Ambrose Bierce', 1890, 6432246701),\n",
       " (56, 'The Picture of Dorian Gray', 'Oscar Wilde', 1890, 5057915174),\n",
       " (57, 'The Brothers Karamazov', 'Fyodor Dostoyevsky', 1880, 1591595018),\n",
       " (58,\n",
       "  \"Grimms' Fairy Tales\",\n",
       "  'Jacob Grimm and Wilhelm Grimm',\n",
       "  1858,\n",
       "  9481016995),\n",
       " (59, 'The War of the Worlds', 'H. G. Wells', 1898, 7360406327),\n",
       " (60, 'Dracula', 'Bram Stoker', 1897, 4274716715),\n",
       " (61, 'The Call of the Wild', 'Jack London', 1905, 5092202901),\n",
       " (62, 'Oliver Twist', 'Charles Dickens', 1839, 9103557294),\n",
       " (63, 'Treasure Island', 'Robert Louis Stevenson', 1883, 9985114885),\n",
       " (64, 'A Study in Scarlet', 'Arthur Conan Doyle', 1887, 6146781316),\n",
       " (65, 'The Scarlet Letter', 'Nathaniel Hawthorne', 1850, 7064200431),\n",
       " (66, 'The Count of Monte Cristo', 'Alexandre Dumas', 1884, 3303490694),\n",
       " (67, 'Les Misérables', 'Victor Hugo', 1895, 6502926567),\n",
       " (68, 'The Count of Monte Cristo', 'Alexandre Dumas', 1884, 1750433521),\n",
       " (69, 'Siddhartha', 'Hermann Hesse', 1922, 4524773001),\n",
       " (70,\n",
       "  'Also sprach Zarathustra',\n",
       "  'Friedrich Wilhelm Nietzsche',\n",
       "  1896,\n",
       "  8233453745),\n",
       " (71, 'A Tale of Two Cities', 'Charles Dickens', 1859, 4966189808),\n",
       " (72, 'The Yellow Wallpaper', 'Charlotte Perkins Gilman', 1892, 8015869193),\n",
       " (73, 'Dracula', 'Bram Stoker', 1897, 8730298424),\n",
       " (74,\n",
       "  'The Strange Case of Dr. Jekyll and Mr. Hyde',\n",
       "  'Robert Louis Stevenson',\n",
       "  1886,\n",
       "  5456105629),\n",
       " (75, 'Moby Dick; Or, The Whale', 'Herman Melville', 1851, 3254901352),\n",
       " (76, 'Jane Eyre: An Autobiography', 'Charlotte Brontë', 1847, 7490708197),\n",
       " (77, 'The Prophet', 'Kahlil Gibran', 1923, 5516789160),\n",
       " (78, 'The Prophet', 'Kahlil Gibran', 1923, 9731317241),\n",
       " (79, 'A Study in Scarlet', 'Arthur Conan Doyle', 1887, 4735557481),\n",
       " (80, 'Jane Eyre: An Autobiography', 'Charlotte Brontë', 1847, 5181168830),\n",
       " (81,\n",
       "  \"Grimms' Fairy Tales\",\n",
       "  'Jacob Grimm and Wilhelm Grimm',\n",
       "  1858,\n",
       "  2956935227),\n",
       " (82, 'Sense and Sensibility', 'Jane Austen', 1811, 3382858636),\n",
       " (83, 'Emma', 'Jane Austen', 1815, 3338413705),\n",
       " (84,\n",
       "  'Tractatus Logico-Philosophicus',\n",
       "  'Ludwig Wittgenstein',\n",
       "  1921,\n",
       "  7953286250),\n",
       " (85, 'Pygmalion', 'Bernard Shaw', 1913, 3028132298),\n",
       " (86, 'Siddhartha', 'Hermann Hesse', 1922, 9816358488),\n",
       " (87,\n",
       "  'Frankenstein; Or, The Modern Prometheus',\n",
       "  'Mary Wollstonecraft Shelley',\n",
       "  1818,\n",
       "  5100740849),\n",
       " (88, 'Ulysses', 'James Joyce', 1922, 9050461909),\n",
       " (89,\n",
       "  'Walden, and On The Duty Of Civil Disobedience',\n",
       "  'Henry David Thoreau',\n",
       "  1849,\n",
       "  1250001073),\n",
       " (90, 'The Jungle', 'Upton Sinclair', 1906, 9012348841),\n",
       " (91,\n",
       "  'The Importance of Being Earnest: A Trivial Comedy for Serious People',\n",
       "  'Oscar Wilde',\n",
       "  1895,\n",
       "  9067533454),\n",
       " (92, \"Alice's Adventures in Wonderland\", 'Lewis Carroll', 1865, 8015835428),\n",
       " (93, 'Great Expectations', 'Charles Dickens', 1861, 4043822646),\n",
       " (94,\n",
       "  'Walden, and On The Duty Of Civil Disobedience',\n",
       "  'Henry David Thoreau',\n",
       "  1849,\n",
       "  8026944492),\n",
       " (95,\n",
       "  'Also sprach Zarathustra',\n",
       "  'Friedrich Wilhelm Nietzsche',\n",
       "  1896,\n",
       "  7133340991),\n",
       " (96, 'A Study in Scarlet', 'Arthur Conan Doyle', 1887, 3312061309),\n",
       " (97,\n",
       "  'The Life and Adventures of Robinson Crusoe',\n",
       "  'Daniel Defoe',\n",
       "  1791,\n",
       "  8830076797),\n",
       " (98, 'An Occurrence at Owl Creek Bridge', 'Ambrose Bierce', 1890, 6854696214),\n",
       " (99, 'Little Women', 'Louisa May Alcott', 1869, 3945560004),\n",
       " (100, 'The Jungle Book', 'Rudyard Kipling', 1894, 9443427576),\n",
       " (101, 'Anna Karenina', 'graf Leo Tolstoy', 1878, 8754465846),\n",
       " (102, 'Hard Times', 'Charles Dickens', 1854, 6674338548),\n",
       " (103, 'Moby Dick; Or, The Whale', 'Herman Melville', 1851, 6616753388),\n",
       " (104, 'On the origin of species', 'Charles Darwin', 1859, 9362177222),\n",
       " (105, 'The Turn of the Screw', 'Henry James', 1898, 6435968624),\n",
       " (106, 'Wuthering Heights', 'Emily Brontë', 1847, 4592191348),\n",
       " (107, 'Little Women', 'Louisa May Alcott', 1869, 1965826731),\n",
       " (108, \"Pascal's Pensées\", 'Blaise Pascal', 1670, 5350687892),\n",
       " (109, 'Emma', 'Jane Austen', 1815, 6733484219),\n",
       " (110,\n",
       "  'The Strange Case of Dr. Jekyll and Mr. Hyde',\n",
       "  'Robert Louis Stevenson',\n",
       "  1886,\n",
       "  6219262708),\n",
       " (111,\n",
       "  'The Decameron of Giovanni Boccaccio',\n",
       "  'Giovanni Boccaccio',\n",
       "  1375,\n",
       "  2485650954),\n",
       " (112, 'The War of the Worlds', 'H. G. Wells', 1898, 7919408621),\n",
       " (113, 'On the origin of species', 'Charles Darwin', 1859, 3102441408),\n",
       " (114, 'The Wonderful Wizard of Oz', 'L. Frank Baum', 1900, 9562452329),\n",
       " (115, 'Hard Times', 'Charles Dickens', 1854, 3242500932),\n",
       " (116, 'The Brothers Karamazov', 'Fyodor Dostoyevsky', 1880, 3310765031),\n",
       " (117, 'The Time Machine', 'H. G. Wells', 1895, 7267049081),\n",
       " (118, 'Adventures of Huckleberry Finn', 'Mark Twain', 1884, 5259319712),\n",
       " (119, 'The Tale of Peter Rabbit', 'Beatrix Potter', 1901, 2755886014),\n",
       " (120, 'Dubliners', 'James Joyce', 1914, 3639380140),\n",
       " (121, 'The Mysterious Affair at Styles', 'Agatha Christie', 1920, 9303804404),\n",
       " (122, 'Metamorphosis', 'Franz Kafka', 1915, 7205341627),\n",
       " (123, 'The Mysterious Affair at Styles', 'Agatha Christie', 1920, 7280027397),\n",
       " (124,\n",
       "  'The Adventures of Sherlock Holmes',\n",
       "  'Arthur Conan Doyle',\n",
       "  1892,\n",
       "  7776442868),\n",
       " (125, 'Candide', 'Voltaire', 1759, 6478624379),\n",
       " (126,\n",
       "  'The Awakening, and Selected Short Stories',\n",
       "  'Kate Chopin',\n",
       "  1899,\n",
       "  9895378062),\n",
       " (127, 'David Copperfield', 'Charles Dickens', 1850, 8525488511),\n",
       " (128, 'The Picture of Dorian Gray', 'Oscar Wilde', 1890, 3664785630),\n",
       " (129,\n",
       "  'Also sprach Zarathustra',\n",
       "  'Friedrich Wilhelm Nietzsche',\n",
       "  1896,\n",
       "  8880867275),\n",
       " (130, 'Peter Pan', 'J. M. Barrie', 1911, 5135424406),\n",
       " (131, 'War and Peace', 'graf Leo Tolstoy', 1869, 9585335549),\n",
       " (132, 'War and Peace', 'graf Leo Tolstoy', 1869, 5605187849),\n",
       " (133, 'Treasure Island', 'Robert Louis Stevenson', 1883, 2952281573),\n",
       " (134, 'The Sign of the Four', 'Arthur Conan Doyle', 1890, 9535295098),\n",
       " (135, 'A Tale of Two Cities', 'Charles Dickens', 1859, 8996747227),\n",
       " (136, 'The Wonderful Wizard of Oz', 'L. Frank Baum', 1900, 1471501105),\n",
       " (137, \"Alice's Adventures in Wonderland\", 'Lewis Carroll', 1865, 3946912387),\n",
       " (138, 'The Sign of the Four', 'Arthur Conan Doyle', 1890, 6652171593),\n",
       " (139, 'Peter Pan', 'J. M. Barrie', 1911, 2588073202),\n",
       " (140,\n",
       "  \"Gulliver's Travels into Several Remote Nations of the World\",\n",
       "  'Jonathan Swift',\n",
       "  1726,\n",
       "  8923446356),\n",
       " (141,\n",
       "  'Three Men in a Boat (To Say Nothing of the Dog)',\n",
       "  'Jerome K. Jerome',\n",
       "  1889,\n",
       "  6572731534),\n",
       " (142,\n",
       "  'The Decameron of Giovanni Boccaccio',\n",
       "  'Giovanni Boccaccio',\n",
       "  1375,\n",
       "  3609260747),\n",
       " (143,\n",
       "  \"Gulliver's Travels into Several Remote Nations of the World\",\n",
       "  'Jonathan Swift',\n",
       "  1726,\n",
       "  5394770992),\n",
       " (144, 'Pride and Prejudice', 'Jane Austen', 1813, 9131059093),\n",
       " (145, 'Oliver Twist', 'Charles Dickens', 1839, 6444030057),\n",
       " (146, 'Metamorphosis', 'Franz Kafka', 1915, 6978078350),\n",
       " (147, 'The Adventures of Tom Sawyer', 'Mark Twain', 1876, 4750599556),\n",
       " (148, 'War and Peace', 'graf Leo Tolstoy', 1869, 9348938616),\n",
       " (149,\n",
       "  'The Importance of Being Earnest: A Trivial Comedy for Serious People',\n",
       "  'Oscar Wilde',\n",
       "  1895,\n",
       "  2054382275),\n",
       " (150, 'The Secret Garden', 'Frances Hodgson Burnett', 1911, 2438574546),\n",
       " (151, 'Second Treatise of Government', 'John Locke', 1689, 6979338785),\n",
       " (152, 'Anne of Green Gables', 'L. M. Montgomery', 1908, 4550745199),\n",
       " (153,\n",
       "  'Frankenstein; Or, The Modern Prometheus',\n",
       "  'Mary Wollstonecraft Shelley',\n",
       "  1818,\n",
       "  8839302214),\n",
       " (154,\n",
       "  'An Occurrence at Owl Creek Bridge',\n",
       "  'Ambrose Bierce',\n",
       "  1890,\n",
       "  8301235528),\n",
       " (155, 'The Prophet', 'Kahlil Gibran', 1923, 9013040583),\n",
       " (156,\n",
       "  'The Life and Adventures of Robinson Crusoe',\n",
       "  'Daniel Defoe',\n",
       "  1791,\n",
       "  3650881744),\n",
       " (157, 'Les Misérables', 'Victor Hugo', 1895, 9108696047),\n",
       " (158, 'Moby Dick; Or, The Whale', 'Herman Melville', 1851, 8158837759),\n",
       " (159,\n",
       "  'Three Men in a Boat (To Say Nothing of the Dog)',\n",
       "  'Jerome K. Jerome',\n",
       "  1889,\n",
       "  3293874630),\n",
       " (160, 'The War of the Worlds', 'H. G. Wells', 1898, 4474735051),\n",
       " (161, 'The Prince', 'Niccolò Machiavelli', 1532, 9323491902),\n",
       " (162, 'Pride and Prejudice', 'Jane Austen', 1813, 8156410777),\n",
       " (163, 'The Mysterious Affair at Styles', 'Agatha Christie', 1920, 3833130645),\n",
       " (164,\n",
       "  'The Hound of the Baskervilles',\n",
       "  'Arthur Conan Doyle',\n",
       "  1902,\n",
       "  7500891493),\n",
       " (165, 'The Turn of the Screw', 'Henry James', 1898, 2119519594),\n",
       " (166,\n",
       "  'The Strange Case of Dr. Jekyll and Mr. Hyde',\n",
       "  'Robert Louis Stevenson',\n",
       "  1886,\n",
       "  1388191607),\n",
       " (167, 'Anne of Green Gables', 'L. M. Montgomery', 1908, 6951820908),\n",
       " (168, \"Pascal's Pensées\", 'Blaise Pascal', 1670, 1688834109),\n",
       " (169, 'Second Treatise of Government', 'John Locke', 1689, 5647388501),\n",
       " (170, 'A Tale of Two Cities', 'Charles Dickens', 1859, 1396589796),\n",
       " (171, 'The Call of the Wild', 'Jack London', 1905, 7523202583),\n",
       " (172, \"Uncle Tom's Cabin\", 'Harriet Beecher Stowe', 1852, 1944291114),\n",
       " (173, 'Wuthering Heights', 'Emily Brontë', 1847, 2847748801),\n",
       " (174, 'A Modest Proposal', 'Jonathan Swift', 1729, 7708090276),\n",
       " (175, 'The Time Machine', 'H. G. Wells', 1895, 1291355714),\n",
       " (176, 'The Jungle', 'Upton Sinclair', 1906, 2932680848),\n",
       " (177, 'The Call of the Wild', 'Jack London', 1905, 3119888447),\n",
       " (178, 'The Secret Garden', 'Frances Hodgson Burnett', 1911, 8157982611),\n",
       " (179, 'Anna Karenina', 'graf Leo Tolstoy', 1878, 3570685469),\n",
       " (180,\n",
       "  'Frankenstein; Or, The Modern Prometheus',\n",
       "  'Mary Wollstonecraft Shelley',\n",
       "  1818,\n",
       "  5880488254),\n",
       " (181, 'Sense and Sensibility', 'Jane Austen', 1811, 7712942206),\n",
       " (182,\n",
       "  \"Grimms' Fairy Tales\",\n",
       "  'Jacob Grimm and Wilhelm Grimm',\n",
       "  1858,\n",
       "  7433732302),\n",
       " (183, 'Little Women', 'Louisa May Alcott', 1869, 3806008380),\n",
       " (184, 'Ulysses', 'James Joyce', 1922, 7973290433),\n",
       " (185, 'Don Quixote', 'Miguel de Cervantes Saavedra', 1605, 3037774000),\n",
       " (186, 'Pride and Prejudice', 'Jane Austen', 1813, 9229256777),\n",
       " (187, 'Don Quixote', 'Miguel de Cervantes Saavedra', 1605, 3750235511),\n",
       " (188,\n",
       "  'Tractatus Logico-Philosophicus',\n",
       "  'Ludwig Wittgenstein',\n",
       "  1921,\n",
       "  3733674722),\n",
       " (189, 'The Jungle Book', 'Rudyard Kipling', 1894, 2183505735),\n",
       " (190, 'Adventures of Huckleberry Finn', 'Mark Twain', 1884, 3766010638),\n",
       " (191, 'Emma', 'Jane Austen', 1815, 5913123586),\n",
       " (192, 'The Turn of the Screw', 'Henry James', 1898, 9586004168),\n",
       " (193, 'Candide', 'Voltaire', 1759, 9718482110),\n",
       " (194, 'The Tale of Peter Rabbit', 'Beatrix Potter', 1901, 5705857485),\n",
       " (195, 'Metamorphosis', 'Franz Kafka', 1915, 8949930384),\n",
       " (196,\n",
       "  'The Awakening, and Selected Short Stories',\n",
       "  'Kate Chopin',\n",
       "  1899,\n",
       "  5859811018),\n",
       " (197, 'Hard Times', 'Charles Dickens', 1854, 6616502217),\n",
       " (198, \"A Doll's House\", 'Henrik Ibsen', 1879, 6227932647),\n",
       " (199, 'Anna Karenina', 'graf Leo Tolstoy', 1878, 6318181860),\n",
       " (200, \"A Doll's House\", 'Henrik Ibsen', 1879, 2719805876),\n",
       " (201, 'To Kill a Mockingbird', 'Harper Lee', 1960, 978006112),\n",
       " (202, 'The Scajlet Letter', 'Nathaoiel Hawthorne', 1950, 4579408958)]"
      ]
     },
     "execution_count": 44,
     "metadata": {},
     "output_type": "execute_result"
    }
   ],
   "source": [
    "cursor.execute(\"SELECT * FROM books\")\n",
    "result = cursor.fetchall()\n",
    "result"
   ]
  },
  {
   "cell_type": "code",
   "execution_count": 59,
   "metadata": {},
   "outputs": [
    {
     "data": {
      "text/plain": [
       "[(2,)]"
      ]
     },
     "execution_count": 59,
     "metadata": {},
     "output_type": "execute_result"
    }
   ],
   "source": [
    "# find the number of availalbe copies of the book (Dracula)\n",
    "\n",
    "cursor.execute(\"\"\"\n",
    "               \n",
    "SELECT \n",
    "    (SELECT COUNT(*) FROM Books WHERE Title = 'Dracula') \n",
    "    - \n",
    "    (SELECT COUNT(*) FROM Loans l \n",
    "     JOIN Books b ON l.BookID = b.BookID \n",
    "     WHERE b.Title = 'Dracula' AND l.ReturnedDate IS NULL) \n",
    "    AS AvailableCopies;\n",
    "\n",
    "\"\"\")\n",
    "\n",
    "\n",
    "cursor.fetchall() "
   ]
  },
  {
   "cell_type": "code",
   "execution_count": 63,
   "metadata": {},
   "outputs": [
    {
     "data": {
      "text/plain": [
       "[(3,)]"
      ]
     },
     "execution_count": 63,
     "metadata": {},
     "output_type": "execute_result"
    }
   ],
   "source": [
    "# check total copies of the book\n",
    "cursor.execute(\"\"\"\n",
    "               \n",
    "SELECT COUNT(*) AS TotalCopies \n",
    "FROM Books \n",
    "WHERE Title = 'Dracula';\n",
    "\n",
    "\"\"\")\n",
    "\n",
    "\n",
    "cursor.fetchall()           "
   ]
  },
  {
   "cell_type": "code",
   "execution_count": 47,
   "metadata": {},
   "outputs": [
    {
     "data": {
      "text/plain": [
       "[(1,)]"
      ]
     },
     "execution_count": 47,
     "metadata": {},
     "output_type": "execute_result"
    }
   ],
   "source": [
    "# current total loans of the book\n",
    "\n",
    "cursor.execute(\"\"\"\n",
    "               \n",
    "SELECT COUNT(*) AS TotalLoans\n",
    "FROM Loans l\n",
    "JOIN Books b ON l.BookID = b.BookID\n",
    "WHERE b.Title = 'Dracula' AND l.ReturnedDate IS NULL;\n",
    "\"\"\")\n",
    "\n",
    "\n",
    "cursor.fetchall()"
   ]
  },
  {
   "cell_type": "code",
   "execution_count": 48,
   "metadata": {
    "vscode": {
     "languageId": "sql"
    }
   },
   "outputs": [
    {
     "data": {
      "text/plain": [
       "[(2,)]"
      ]
     },
     "execution_count": 48,
     "metadata": {},
     "output_type": "execute_result"
    }
   ],
   "source": [
    "# total available books of dracula \n",
    "\n",
    "cursor.execute(\"\"\"\n",
    "\n",
    "SELECT COUNT(*) AS AvailableCopies\n",
    "FROM Books b\n",
    "LEFT JOIN Loans l ON b.BookID = l.BookID AND l.ReturnedDate IS NULL\n",
    "WHERE b.Title = 'Dracula' AND l.LoanID IS NULL;\n",
    "\"\"\")\n",
    "\n",
    "cursor.fetchall()"
   ]
  },
  {
   "cell_type": "code",
   "execution_count": 61,
   "metadata": {
    "vscode": {
     "languageId": "sql"
    }
   },
   "outputs": [
    {
     "data": {
      "text/plain": [
       "[]"
      ]
     },
     "execution_count": 61,
     "metadata": {},
     "output_type": "execute_result"
    }
   ],
   "source": [
    "# Add new books to the library\n",
    "\n",
    "cursor.execute(\"\"\"\n",
    "\n",
    "INSERT INTO books (BookID, Title, Author, Published, Barcode)\n",
    "VALUES (205,'To jlol a Mockingoird', 'Horoer Lpe', 7860, '928096112');\n",
    "\"\"\")\n",
    "\n",
    "cursor.fetchall()\n"
   ]
  },
  {
   "cell_type": "code",
   "execution_count": 20,
   "metadata": {
    "vscode": {
     "languageId": "sql"
    }
   },
   "outputs": [
    {
     "data": {
      "text/plain": [
       "[(2001, 93, 50, '2020-08-25', '2020-09-08'),\n",
       " (2001, 11, 50, '2020-08-25', '2020-09-08')]"
      ]
     },
     "execution_count": 20,
     "metadata": {},
     "output_type": "execute_result"
    }
   ],
   "source": [
    "# Check out Books: books(4043822646, 2855934983)\n",
    "\n",
    "cursor.execute(\"\"\"\n",
    "\n",
    "SELECT \n",
    "    (SELECT COALESCE(MAX(LoanID), 0) + 1 FROM Loans) AS LoanID,\n",
    "    b.BookID,\n",
    "    p.PatronID,\n",
    "    '2020-08-25',\n",
    "    '2020-09-08'\n",
    "FROM Books b\n",
    "JOIN Patrons p ON p.Email = 'jvaan@wisdompets.com'\n",
    "WHERE b.Barcode IN (4043822646, 2855934983);\n",
    "\"\"\")\n",
    "\n",
    "cursor.fetchall()\n"
   ]
  },
  {
   "cell_type": "code",
   "execution_count": 21,
   "metadata": {
    "vscode": {
     "languageId": "sql"
    }
   },
   "outputs": [
    {
     "data": {
      "text/plain": [
       "[(1800,\n",
       "  'Three Men in a Boat (To Say Nothing of the Dog)',\n",
       "  0,\n",
       "  'cdurdy2p@hplussport.com',\n",
       "  '2020-02-08',\n",
       "  '2020-02-22',\n",
       "  None),\n",
       " (1864,\n",
       "  'Jane Eyre: An Autobiography',\n",
       "  0,\n",
       "  'mdomney0@wisdompets.com',\n",
       "  '2020-03-24',\n",
       "  '2020-04-07',\n",
       "  None),\n",
       " (1911,\n",
       "  'Jane Eyre: An Autobiography',\n",
       "  0,\n",
       "  'cmcgilroy11@landonhotel.com',\n",
       "  '2020-04-24',\n",
       "  '2020-05-08',\n",
       "  None),\n",
       " (1948,\n",
       "  'Sense and Sensibility',\n",
       "  0,\n",
       "  'aofihillie1f@wisdompets.com',\n",
       "  '2020-05-17',\n",
       "  '2020-05-31',\n",
       "  None),\n",
       " (1983,\n",
       "  'David Copperfield',\n",
       "  0,\n",
       "  'gholyland2f@red30design.com',\n",
       "  '2020-06-17',\n",
       "  '2020-07-01',\n",
       "  None),\n",
       " (1984,\n",
       "  'An Occurrence at Owl Creek Bridge',\n",
       "  0,\n",
       "  'vmclarnon24@orangevalleycaa.org',\n",
       "  '2020-06-18',\n",
       "  '2020-07-02',\n",
       "  None),\n",
       " (1985,\n",
       "  \"Grimms' Fairy Tales\",\n",
       "  0,\n",
       "  'rwalkowski1i@kinetecoinc.com',\n",
       "  '2020-06-18',\n",
       "  '2020-07-02',\n",
       "  None),\n",
       " (1986,\n",
       "  'Walden, and On The Duty Of Civil Disobedience',\n",
       "  0,\n",
       "  'ctodeoe@wisdompets.com',\n",
       "  '2020-06-18',\n",
       "  '2020-07-02',\n",
       "  None),\n",
       " (1987,\n",
       "  'Also sprach Zarathustra',\n",
       "  0,\n",
       "  'bleggan2r@rouxacademy.org',\n",
       "  '2020-06-21',\n",
       "  '2020-07-05',\n",
       "  None),\n",
       " (1988,\n",
       "  'The Tale of Peter Rabbit',\n",
       "  0,\n",
       "  'ccawoodr@samoca.org',\n",
       "  '2020-06-21',\n",
       "  '2020-07-05',\n",
       "  None),\n",
       " (1989,\n",
       "  'A Study in Scarlet',\n",
       "  0,\n",
       "  'dweingarten@kinetecoinc.com',\n",
       "  '2020-06-22',\n",
       "  '2020-07-06',\n",
       "  None),\n",
       " (1990,\n",
       "  'The Life and Adventures of Robinson Crusoe',\n",
       "  0,\n",
       "  'cfurminger1b@kinetecoinc.com',\n",
       "  '2020-06-24',\n",
       "  '2020-07-08',\n",
       "  None),\n",
       " (1991,\n",
       "  'The Turn of the Screw',\n",
       "  0,\n",
       "  'hrossander1s@wisdompets.com',\n",
       "  '2020-06-25',\n",
       "  '2020-07-09',\n",
       "  None),\n",
       " (1992,\n",
       "  'Sense and Sensibility',\n",
       "  0,\n",
       "  'ckoppe1m@landonhotel.com',\n",
       "  '2020-06-25',\n",
       "  '2020-07-09',\n",
       "  None),\n",
       " (1993,\n",
       "  'The Brothers Karamazov',\n",
       "  0,\n",
       "  'ajurn2g@samoca.org',\n",
       "  '2020-06-27',\n",
       "  '2020-07-11',\n",
       "  None),\n",
       " (1994,\n",
       "  'Peter Pan',\n",
       "  0,\n",
       "  'ydellabbateq@rouxacademy.org',\n",
       "  '2020-06-28',\n",
       "  '2020-07-12',\n",
       "  None),\n",
       " (1995,\n",
       "  \"Pascal's Pensées\",\n",
       "  0,\n",
       "  'iiles1h@samoca.org',\n",
       "  '2020-06-28',\n",
       "  '2020-07-12',\n",
       "  None),\n",
       " (1996,\n",
       "  'The Count of Monte Cristo',\n",
       "  0,\n",
       "  'ksimonian2q@landonhotel.com',\n",
       "  '2020-06-29',\n",
       "  '2020-07-13',\n",
       "  None),\n",
       " (1997,\n",
       "  'The Prophet',\n",
       "  0,\n",
       "  'lawmack1a@samoca.org',\n",
       "  '2020-06-29',\n",
       "  '2020-07-13',\n",
       "  None),\n",
       " (1998,\n",
       "  'Second Treatise of Government',\n",
       "  0,\n",
       "  'adinjesh@samoca.org',\n",
       "  '2020-06-29',\n",
       "  '2020-07-13',\n",
       "  None),\n",
       " (1999,\n",
       "  'Dracula',\n",
       "  0,\n",
       "  'ckoppe1m@landonhotel.com',\n",
       "  '2020-06-29',\n",
       "  '2020-07-13',\n",
       "  None),\n",
       " (2000,\n",
       "  'The Importance of Being Earnest: A Trivial Comedy for Serious People',\n",
       "  0,\n",
       "  'ccalver8@samoca.org',\n",
       "  '2020-06-30',\n",
       "  '2020-07-14',\n",
       "  None)]"
      ]
     },
     "execution_count": 21,
     "metadata": {},
     "output_type": "execute_result"
    }
   ],
   "source": [
    "# Check books for Due back\n",
    "\n",
    "cursor.execute(\"\"\"\n",
    "SELECT \n",
    "    l.LoanID,\n",
    "    b.Title AS BookTitle,\n",
    "    p.FirstName || ' ' || p.LastName AS PatronName,\n",
    "    p.Email AS PatronEmail,\n",
    "    l.LoanDate,\n",
    "    l.DueDate,\n",
    "    l.ReturnedDate\n",
    "FROM Loans l\n",
    "JOIN Books b ON l.BookID = b.BookID\n",
    "JOIN Patrons p ON l.PatronID = p.PatronID\n",
    "WHERE l.ReturnedDate IS NULL\n",
    "ORDER BY l.DueDate ASC;\n",
    "\n",
    "\"\"\")\n",
    "\n",
    "cursor.fetchall()"
   ]
  },
  {
   "cell_type": "code",
   "execution_count": 22,
   "metadata": {
    "vscode": {
     "languageId": "sql"
    }
   },
   "outputs": [
    {
     "data": {
      "text/plain": [
       "[(1997,\n",
       "  'The Prophet',\n",
       "  9013040583,\n",
       "  0,\n",
       "  'lawmack1a@samoca.org',\n",
       "  '2020-06-29',\n",
       "  '2020-07-13'),\n",
       " (1998,\n",
       "  'Second Treatise of Government',\n",
       "  5647388501,\n",
       "  0,\n",
       "  'adinjesh@samoca.org',\n",
       "  '2020-06-29',\n",
       "  '2020-07-13'),\n",
       " (1999,\n",
       "  'Dracula',\n",
       "  8730298424,\n",
       "  0,\n",
       "  'ckoppe1m@landonhotel.com',\n",
       "  '2020-06-29',\n",
       "  '2020-07-13'),\n",
       " (1996,\n",
       "  'The Count of Monte Cristo',\n",
       "  1799238621,\n",
       "  0,\n",
       "  'ksimonian2q@landonhotel.com',\n",
       "  '2020-06-29',\n",
       "  '2020-07-13')]"
      ]
     },
     "execution_count": 22,
     "metadata": {},
     "output_type": "execute_result"
    }
   ],
   "source": [
    "# generate a report of books due back on July 13, 2020\n",
    "cursor.execute(\"\"\"\n",
    "SELECT \n",
    "    l.LoanID,\n",
    "    b.Title AS BookTitle,\n",
    "    b.Barcode AS BookBarcode,\n",
    "    p.FirstName || ' ' || p.LastName AS PatronName,\n",
    "    p.Email AS PatronEmail,\n",
    "    l.LoanDate,\n",
    "    l.DueDate\n",
    "FROM Loans l\n",
    "JOIN Books b ON l.BookID = b.BookID\n",
    "JOIN Patrons p ON l.PatronID = p.PatronID\n",
    "WHERE l.DueDate = '2020-07-13'\n",
    "ORDER BY p.LastName, p.FirstName; \n",
    "\n",
    "\"\"\")\n",
    "\n",
    "cursor.fetchall()"
   ]
  },
  {
   "cell_type": "code",
   "execution_count": 23,
   "metadata": {
    "vscode": {
     "languageId": "sql"
    }
   },
   "outputs": [
    {
     "data": {
      "text/plain": [
       "[(1997,\n",
       "  'The Prophet',\n",
       "  9013040583,\n",
       "  0,\n",
       "  'lawmack1a@samoca.org',\n",
       "  47,\n",
       "  '2020-06-29',\n",
       "  '2020-07-13'),\n",
       " (1998,\n",
       "  'Second Treatise of Government',\n",
       "  5647388501,\n",
       "  0,\n",
       "  'adinjesh@samoca.org',\n",
       "  18,\n",
       "  '2020-06-29',\n",
       "  '2020-07-13'),\n",
       " (1999,\n",
       "  'Dracula',\n",
       "  8730298424,\n",
       "  0,\n",
       "  'ckoppe1m@landonhotel.com',\n",
       "  59,\n",
       "  '2020-06-29',\n",
       "  '2020-07-13'),\n",
       " (1996,\n",
       "  'The Count of Monte Cristo',\n",
       "  1799238621,\n",
       "  0,\n",
       "  'ksimonian2q@landonhotel.com',\n",
       "  99,\n",
       "  '2020-06-29',\n",
       "  '2020-07-13')]"
      ]
     },
     "execution_count": 23,
     "metadata": {},
     "output_type": "execute_result"
    }
   ],
   "source": [
    "# with patron contact information\n",
    "cursor.execute(\"\"\"\n",
    "SELECT \n",
    "    l.LoanID,\n",
    "    b.Title AS BookTitle,\n",
    "    b.Barcode AS BookBarcode,\n",
    "    p.FirstName || ' ' || p.LastName AS PatronName,\n",
    "    p.Email AS PatronEmail,\n",
    "    p.PatronID,\n",
    "    l.LoanDate,\n",
    "    l.DueDate\n",
    "FROM Loans l\n",
    "JOIN Books b ON l.BookID = b.BookID\n",
    "JOIN Patrons p ON l.PatronID = p.PatronID\n",
    "WHERE l.DueDate = '2020-07-13'\n",
    "ORDER BY p.LastName, p.FirstName;\n",
    "\"\"\")\n",
    "\n",
    "cursor.fetchall()"
   ]
  },
  {
   "cell_type": "code",
   "execution_count": 30,
   "metadata": {
    "vscode": {
     "languageId": "sql"
    }
   },
   "outputs": [
    {
     "data": {
      "text/plain": [
       "[]"
      ]
     },
     "execution_count": 30,
     "metadata": {},
     "output_type": "execute_result"
    }
   ],
   "source": [
    "#Return books to the library (which have barcode=6435968624) and return this book at this date(2020-07-05)\n",
    "cursor.execute(\"\"\"\n",
    "SET SQL_SAFE_UPDATES = 0;\n",
    "UPDATE Loans \n",
    "SET ReturnedDate = '2020-07-05' \n",
    "WHERE BookID = (SELECT BookID FROM Books WHERE Barcode = 6435968624) \n",
    "AND ReturnedDate IS NULL;\n",
    "\n",
    "\"\"\")\n",
    "\n",
    "cursor.fetchall()"
   ]
  },
  {
   "cell_type": "code",
   "execution_count": null,
   "metadata": {
    "vscode": {
     "languageId": "sql"
    }
   },
   "outputs": [],
   "source": [
    "#Encourage Patrons to check out books as follows: "
   ]
  },
  {
   "cell_type": "code",
   "execution_count": 50,
   "metadata": {
    "vscode": {
     "languageId": "sql"
    }
   },
   "outputs": [
    {
     "data": {
      "text/plain": [
       "[('Also sprach Zarathustra', 'Friedrich Wilhelm Nietzsche'),\n",
       " ('Emma', 'Jane Austen'),\n",
       " ('The Secret Garden', 'Frances Hodgson Burnett'),\n",
       " ('The War of the Worlds', 'H. G. Wells'),\n",
       " (\"Pascal's Pensées\", 'Blaise Pascal')]"
      ]
     },
     "execution_count": 50,
     "metadata": {},
     "output_type": "execute_result"
    }
   ],
   "source": [
    "\n",
    "#1# Recommend Books Based on Reading History\n",
    "\n",
    "cursor.execute(\"\"\"\n",
    "SELECT DISTINCT b.Title, b.Author\n",
    "FROM Books b\n",
    "WHERE b.BookID NOT IN (\n",
    "    SELECT l.BookID FROM Loans l \n",
    "    WHERE l.PatronID = (SELECT PatronID FROM Patrons WHERE Email = 'patron@example.com')\n",
    ")\n",
    "ORDER BY RAND()\n",
    "LIMIT 5;\n",
    "\"\"\")\n",
    "cursor.fetchall()\n",
    "\n"
   ]
  },
  {
   "cell_type": "code",
   "execution_count": 51,
   "metadata": {
    "vscode": {
     "languageId": "sql"
    }
   },
   "outputs": [
    {
     "data": {
      "text/plain": [
       "[('The War of the Worlds', 'H. G. Wells', 20),\n",
       " ('Frankenstein; Or, The Modern Prometheus',\n",
       "  'Mary Wollstonecraft Shelley',\n",
       "  20),\n",
       " ('The Scarlet Letter', 'Nathaniel Hawthorne', 18),\n",
       " ('The Awakening, and Selected Short Stories', 'Kate Chopin', 17),\n",
       " ('Frankenstein; Or, The Modern Prometheus',\n",
       "  'Mary Wollstonecraft Shelley',\n",
       "  17)]"
      ]
     },
     "execution_count": 51,
     "metadata": {},
     "output_type": "execute_result"
    }
   ],
   "source": [
    "#2# Promote Most Borrowed Books\n",
    "cursor.execute(\"\"\"\n",
    "SELECT b.Title, b.Author, COUNT(l.BookID) AS LoanCount\n",
    "FROM Loans l\n",
    "JOIN Books b ON l.BookID = b.BookID\n",
    "GROUP BY b.BookID\n",
    "ORDER BY LoanCount DESC\n",
    "LIMIT 5;\n",
    "\n",
    "\"\"\")\n",
    "\n",
    "cursor.fetchall()\n",
    "\n"
   ]
  },
  {
   "cell_type": "code",
   "execution_count": 52,
   "metadata": {
    "vscode": {
     "languageId": "sql"
    }
   },
   "outputs": [
    {
     "data": {
      "text/plain": [
       "[('Maggi', 'Domney', 'mdomney0@wisdompets.com'),\n",
       " ('Javier', 'Dawks', 'jdawks1@red30design.com'),\n",
       " ('Aleen', 'Fasey', 'afasey2@kinetecoinc.com'),\n",
       " ('Taylor', 'Jenkins', 'tjenkins@rouxacademy.org'),\n",
       " ('Imogen', 'Kabsch', 'ikabsch@landonhotel.com'),\n",
       " ('Don', 'Weingarten', 'dweingarten@kinetecoinc.com'),\n",
       " ('Cammi', 'Kynett', 'ckynett6@orangevalleycaa.org'),\n",
       " ('Steffie', 'Kleis', 'skleis7@wisdompets.com'),\n",
       " ('Carilyn', 'Calver', 'ccalver8@samoca.org'),\n",
       " ('Barbara-anne', 'Sweet', 'bsweet9@samoca.org'),\n",
       " ('Faina', 'Nelles', 'fnellesa@red30design.com'),\n",
       " ('Orton', 'Stavers', 'ostaversb@orangevalleycaa.org'),\n",
       " ('Jobina', 'McKern', 'jmckernc@rouxacademy.org'),\n",
       " ('Paco', 'Yarranton', 'pyarrantond@rouxacademy.org'),\n",
       " ('Chance', 'Todeo', 'ctodeoe@wisdompets.com'),\n",
       " ('Carla', 'Swinfen', 'cswinfenf@kinetecoinc.com'),\n",
       " ('Lani', 'Over', 'loverg@wisdompets.com'),\n",
       " ('Anthe', 'Dinjes', 'adinjesh@samoca.org'),\n",
       " ('Amby', 'Harber', 'aharberi@hplussport.com'),\n",
       " ('Jacinta', 'Vallis', 'jvallisj@kinetecoinc.com'),\n",
       " ('Henri', 'Pughe', 'hpughek@orangevalleycaa.org'),\n",
       " ('Cassandre', 'Wragg', 'cwraggl@landonhotel.com'),\n",
       " ('Amory', 'Bunyard', 'abunyardm@samoca.org'),\n",
       " ('Carny', 'Scamp', 'cscampn@wisdompets.com'),\n",
       " ('Paulie', 'Kinvig', 'pkinvigo@hplussport.com'),\n",
       " ('Taylor', 'Jenkins', 'tjenkins@redt30design.com'),\n",
       " ('Yves', \"Dell'Abbate\", 'ydellabbateq@rouxacademy.org'),\n",
       " ('Culley', 'Cawood', 'ccawoodr@samoca.org'),\n",
       " ('Herby', 'Aspinal', 'haspinals@red30design.com'),\n",
       " ('Emlyn', 'Attwool', 'eattwoolt@hplussport.com'),\n",
       " ('Osgood', 'Saunter', 'osaunteru@red30design.com'),\n",
       " ('Demetri', 'Iacobacci', 'diacobacciv@landonhotel.com'),\n",
       " ('Eloisa', 'Forster', 'eforsterw@wisdompets.com'),\n",
       " ('Carlin', 'Casterou', 'ccasteroux@landonhotel.com'),\n",
       " ('Luciano', 'Winton', 'lwintony@hplussport.com'),\n",
       " ('Allyson', 'Jira', 'ajiraz@wisdompets.com'),\n",
       " ('Jillane', 'Livingstone', 'jlivingstone10@wisdompets.com'),\n",
       " ('Christyna', 'McGilroy', 'cmcgilroy11@landonhotel.com'),\n",
       " ('Oralla', 'Dayer', 'odayer12@samoca.org'),\n",
       " ('Angelique', 'Farnham', 'afarnham13@wisdompets.com'),\n",
       " ('Lowrance', 'Gratton', 'lgratton14@hplussport.com'),\n",
       " ('Cleo', 'Goldwater', 'cgoldwater15@landonhotel.com'),\n",
       " ('Menard', 'Pitone', 'mpitone16@red30design.com'),\n",
       " ('Davy', 'Neely', 'dneely17@hplussport.com'),\n",
       " ('Zechariah', 'Deniske', 'zdeniske18@kinetecoinc.com'),\n",
       " ('Serge', 'Pethrick', 'spethrick19@rouxacademy.org'),\n",
       " ('Lydie', 'Awmack', 'lawmack1a@samoca.org'),\n",
       " ('Clementia', 'Furminger', 'cfurminger1b@kinetecoinc.com'),\n",
       " ('Cathryn', 'Beau', 'cbeau1c@wisdompets.com'),\n",
       " ('Jack', 'Vaan', 'jvaan@wisdompets.com'),\n",
       " ('Romeo', 'Annett', 'rannett1e@samoca.org'),\n",
       " ('Arlen', \"O'Fihillie\", 'aofihillie1f@wisdompets.com'),\n",
       " ('Perceval', 'Redpath', 'predpath1g@rouxacademy.org'),\n",
       " ('Ive', 'Iles', 'iiles1h@samoca.org'),\n",
       " ('Robbert', 'Walkowski', 'rwalkowski1i@kinetecoinc.com'),\n",
       " ('Hagen', 'Itzhayek', 'hitzhayek1j@landonhotel.com'),\n",
       " ('Kahaleel', 'Keaton', 'kkeaton1k@kinetecoinc.com'),\n",
       " ('Purcell', 'Llop', 'pllop1l@hplussport.com'),\n",
       " ('Cornelia', 'Koppe', 'ckoppe1m@landonhotel.com'),\n",
       " ('Olympia', 'Sansun', 'osansun1n@wisdompets.com'),\n",
       " ('Rubia', 'Fitzsymon', 'rfitzsymon1o@red30design.com'),\n",
       " ('Tybie', 'Balme', 'tbalme1p@orangevalleycaa.org'),\n",
       " ('Forest', 'Dubock', 'fdubock1q@red30design.com'),\n",
       " ('Norby', 'Sleight', 'nsleight1r@kinetecoinc.com'),\n",
       " ('Hayyim', 'Rossander', 'hrossander1s@wisdompets.com'),\n",
       " ('Gilbert', 'Dupoy', 'gdupoy1t@rouxacademy.org'),\n",
       " ('Whitney', 'Lamberts', 'wlamberts1u@red30design.com'),\n",
       " ('Anastasie', 'Ferguson', 'aferguson1v@landonhotel.com'),\n",
       " ('Alaster', 'Ruggles', 'aruggles1w@red30design.com'),\n",
       " ('Loretta', 'Hundey', 'lhundey1x@kinetecoinc.com'),\n",
       " ('Winnah', \"D'Elia\", 'wdelia1y@red30design.com'),\n",
       " ('Trip', 'Pond', 'tpond1z@wisdompets.com'),\n",
       " ('Merle', 'Sukbhans', 'msukbhans20@orangevalleycaa.org'),\n",
       " ('Giraldo', 'Algar', 'galgar21@kinetecoinc.com'),\n",
       " ('Bevvy', 'Harrowsmith', 'bharrowsmith22@red30design.com'),\n",
       " ('Dyanna', 'Fulger', 'dfulger23@red30design.com'),\n",
       " ('Viola', 'McLarnon', 'vmclarnon24@orangevalleycaa.org'),\n",
       " ('Dorella', 'Linbohm', 'dlinbohm25@rouxacademy.org'),\n",
       " ('Winslow', 'Klass', 'wklass26@kinetecoinc.com'),\n",
       " ('Francisca', 'Cranmor', 'fcranmor27@wisdompets.com'),\n",
       " ('Gustave', 'Alphonso', 'galphonso28@wisdompets.com'),\n",
       " ('Jacquette', 'Spillard', 'jspillard29@red30design.com'),\n",
       " ('Caril', 'Matejic', 'cmatejic2a@orangevalleycaa.org'),\n",
       " ('Sianna', 'Drewell', 'sdrewell2b@kinetecoinc.com'),\n",
       " ('Sonnie', 'MatticcI', 'smatticci2c@rouxacademy.org'),\n",
       " ('Brandais', 'Jeannaud', 'bjeannaud2d@hplussport.com'),\n",
       " ('Junie', 'MacRury', 'jmacrury2e@wisdompets.com'),\n",
       " ('Gus', 'Holyland', 'gholyland2f@red30design.com'),\n",
       " ('Ab', 'Jurn', 'ajurn2g@samoca.org'),\n",
       " ('Elmo', 'Ockland', 'eockland2h@landonhotel.com'),\n",
       " ('Iver', 'Palke', 'ipalke2i@rouxacademy.org'),\n",
       " ('Asher', 'Tapley', 'atapley2j@kinetecoinc.com'),\n",
       " ('Joel', 'Baignard', 'jbaignard2k@orangevalleycaa.org'),\n",
       " ('Curr', 'Fittall', 'cfittall2l@orangevalleycaa.org'),\n",
       " ('Lelah', 'Seathwright', 'lseathwright2m@samoca.org'),\n",
       " ('Melantha', 'Scowcroft', 'mscowcroft2n@kinetecoinc.com'),\n",
       " ('Herb', 'McParland', 'hmcparland2o@rouxacademy.org'),\n",
       " ('Clem', 'Durdy', 'cdurdy2p@hplussport.com'),\n",
       " ('Kala', 'Simonian', 'ksimonian2q@landonhotel.com'),\n",
       " ('Blythe', 'Leggan', 'bleggan2r@rouxacademy.org')]"
      ]
     },
     "execution_count": 52,
     "metadata": {},
     "output_type": "execute_result"
    }
   ],
   "source": [
    "#3# Remind Patrons Who Haven't Borrowed Recently\n",
    "cursor.execute(\"\"\"\n",
    "SELECT p.FirstName, p.LastName, p.Email\n",
    "FROM Patrons p\n",
    "WHERE p.PatronID NOT IN (\n",
    "    SELECT DISTINCT l.PatronID FROM Loans l\n",
    "    WHERE l.LoanDate >= DATE_SUB(CURDATE(), INTERVAL 6 MONTH)\n",
    ");\n",
    "\"\"\")\n",
    "\n",
    "cursor.fetchall()\n",
    "\n",
    "\n",
    "\n"
   ]
  },
  {
   "cell_type": "code",
   "execution_count": 54,
   "metadata": {
    "vscode": {
     "languageId": "sql"
    }
   },
   "outputs": [
    {
     "data": {
      "text/plain": [
       "[]"
      ]
     },
     "execution_count": 54,
     "metadata": {},
     "output_type": "execute_result"
    }
   ],
   "source": [
    "#4# Recommend New Arrivals\n",
    "cursor.execute(\"\"\"\n",
    "SELECT Title, Author, Published\n",
    "FROM Books\n",
    "WHERE Published >= YEAR(CURDATE()) - 1\n",
    "ORDER BY Published DESC\n",
    "LIMIT 5;\n",
    "\n",
    "\"\"\")\n",
    "\n",
    "cursor.fetchall()"
   ]
  },
  {
   "cell_type": "code",
   "execution_count": 55,
   "metadata": {
    "vscode": {
     "languageId": "sql"
    }
   },
   "outputs": [
    {
     "data": {
      "text/plain": [
       "[(83, 'Caril', 'Matejic', 'cmatejic2a@orangevalleycaa.org', 9),\n",
       " (69, 'Alaster', 'Ruggles', 'aruggles1w@red30design.com', 9),\n",
       " (73, 'Merle', 'Sukbhans', 'msukbhans20@orangevalleycaa.org', 11),\n",
       " (64, 'Norby', 'Sleight', 'nsleight1r@kinetecoinc.com', 12),\n",
       " (94, 'Curr', 'Fittall', 'cfittall2l@orangevalleycaa.org', 12),\n",
       " (50, 'Jack', 'Vaan', 'jvaan@wisdompets.com', 13),\n",
       " (7, 'Cammi', 'Kynett', 'ckynett6@orangevalleycaa.org', 14),\n",
       " (3, 'Aleen', 'Fasey', 'afasey2@kinetecoinc.com', 14),\n",
       " (12, 'Orton', 'Stavers', 'ostaversb@orangevalleycaa.org', 14),\n",
       " (16, 'Carla', 'Swinfen', 'cswinfenf@kinetecoinc.com', 14)]"
      ]
     },
     "execution_count": 55,
     "metadata": {},
     "output_type": "execute_result"
    }
   ],
   "source": [
    "#generate a report of showing 10 patrons who have\n",
    "cursor.execute(\"\"\"\n",
    "SELECT p.PatronID, p.FirstName, p.LastName, p.Email, \n",
    "       COUNT(l.LoanID) AS TotalLoans\n",
    "FROM Patrons p\n",
    "LEFT JOIN Loans l ON p.PatronID = l.PatronID\n",
    "GROUP BY p.PatronID, p.FirstName, p.LastName, p.Email\n",
    "ORDER BY TotalLoans ASC\n",
    "LIMIT 10;\n",
    "\n",
    "\"\"\")\n",
    "\n",
    "cursor.fetchall()\n"
   ]
  },
  {
   "cell_type": "code",
   "execution_count": 56,
   "metadata": {
    "vscode": {
     "languageId": "sql"
    }
   },
   "outputs": [
    {
     "data": {
      "text/plain": [
       "[('The Adventures of Sherlock Holmes', 'Arthur Conan Doyle', 1892, 2411676280),\n",
       " ('The Sign of the Four', 'Arthur Conan Doyle', 1890, 9615072124),\n",
       " ('The Importance of Being Earnest: A Trivial Comedy for Serious People',\n",
       "  'Oscar Wilde',\n",
       "  1895,\n",
       "  4733732465),\n",
       " ('The Picture of Dorian Gray', 'Oscar Wilde', 1890, 2855934983),\n",
       " ('Dracula', 'Bram Stoker', 1897, 8232533734),\n",
       " ('The Awakening, and Selected Short Stories',\n",
       "  'Kate Chopin',\n",
       "  1899,\n",
       "  3103139173),\n",
       " ('The Time Machine', 'H. G. Wells', 1895, 9610930110),\n",
       " ('Les Misérables', 'Victor Hugo', 1895, 8252831254),\n",
       " ('The Jungle Book', 'Rudyard Kipling', 1894, 3655763446),\n",
       " ('Heart of Darkness', 'Joseph Conrad', 1899, 9334362486),\n",
       " ('The Adventures of Sherlock Holmes', 'Arthur Conan Doyle', 1892, 6117891368),\n",
       " ('Heart of Darkness', 'Joseph Conrad', 1899, 2229312049),\n",
       " ('The Yellow Wallpaper', 'Charlotte Perkins Gilman', 1892, 7476179474),\n",
       " ('The Yellow Wallpaper', 'Charlotte Perkins Gilman', 1892, 2503974912),\n",
       " ('An Occurrence at Owl Creek Bridge', 'Ambrose Bierce', 1890, 6432246701),\n",
       " ('The Picture of Dorian Gray', 'Oscar Wilde', 1890, 5057915174),\n",
       " ('The War of the Worlds', 'H. G. Wells', 1898, 7360406327),\n",
       " ('Dracula', 'Bram Stoker', 1897, 4274716715),\n",
       " ('Les Misérables', 'Victor Hugo', 1895, 6502926567),\n",
       " ('Also sprach Zarathustra', 'Friedrich Wilhelm Nietzsche', 1896, 8233453745),\n",
       " ('The Yellow Wallpaper', 'Charlotte Perkins Gilman', 1892, 8015869193),\n",
       " ('An Occurrence at Owl Creek Bridge', 'Ambrose Bierce', 1890, 6854696214),\n",
       " ('The Jungle Book', 'Rudyard Kipling', 1894, 9443427576),\n",
       " ('The Turn of the Screw', 'Henry James', 1898, 6435968624),\n",
       " ('The War of the Worlds', 'H. G. Wells', 1898, 7919408621),\n",
       " ('The Time Machine', 'H. G. Wells', 1895, 7267049081),\n",
       " ('The Adventures of Sherlock Holmes', 'Arthur Conan Doyle', 1892, 7776442868),\n",
       " ('The Awakening, and Selected Short Stories',\n",
       "  'Kate Chopin',\n",
       "  1899,\n",
       "  9895378062),\n",
       " ('The Picture of Dorian Gray', 'Oscar Wilde', 1890, 3664785630),\n",
       " ('Also sprach Zarathustra', 'Friedrich Wilhelm Nietzsche', 1896, 8880867275),\n",
       " ('The Sign of the Four', 'Arthur Conan Doyle', 1890, 9535295098),\n",
       " ('The Sign of the Four', 'Arthur Conan Doyle', 1890, 6652171593),\n",
       " ('The Importance of Being Earnest: A Trivial Comedy for Serious People',\n",
       "  'Oscar Wilde',\n",
       "  1895,\n",
       "  2054382275),\n",
       " ('Les Misérables', 'Victor Hugo', 1895, 9108696047),\n",
       " ('The War of the Worlds', 'H. G. Wells', 1898, 4474735051),\n",
       " ('The Turn of the Screw', 'Henry James', 1898, 2119519594),\n",
       " ('The Time Machine', 'H. G. Wells', 1895, 1291355714),\n",
       " ('The Jungle Book', 'Rudyard Kipling', 1894, 2183505735),\n",
       " ('The Turn of the Screw', 'Henry James', 1898, 9586004168),\n",
       " ('The Awakening, and Selected Short Stories',\n",
       "  'Kate Chopin',\n",
       "  1899,\n",
       "  5859811018)]"
      ]
     },
     "execution_count": 56,
     "metadata": {},
     "output_type": "execute_result"
    }
   ],
   "source": [
    "# Find books to feature for an event create a list of books from 1890s that ar currently available \n",
    "cursor.execute(\"\"\"\n",
    "SELECT b.Title, b.Author, b.Published, b.Barcode \n",
    "FROM Books b\n",
    "LEFT JOIN Loans l ON b.BookID = l.BookID AND l.ReturnedDate IS NULL\n",
    "WHERE b.Published BETWEEN 1890 AND 1899\n",
    "AND l.LoanID IS NULL;\n",
    "\"\"\")\n",
    "\n",
    "cursor.fetchall()"
   ]
  },
  {
   "cell_type": "code",
   "execution_count": 57,
   "metadata": {
    "vscode": {
     "languageId": "sql"
    }
   },
   "outputs": [
    {
     "data": {
      "text/plain": [
       "[(1375, 2),\n",
       " (1532, 3),\n",
       " (1605, 2),\n",
       " (1670, 2),\n",
       " (1689, 2),\n",
       " (1726, 3),\n",
       " (1729, 3),\n",
       " (1759, 3),\n",
       " (1791, 3),\n",
       " (1811, 3),\n",
       " (1813, 3),\n",
       " (1815, 3),\n",
       " (1818, 3),\n",
       " (1839, 3),\n",
       " (1847, 6),\n",
       " (1849, 3),\n",
       " (1850, 6),\n",
       " (1851, 3),\n",
       " (1852, 3),\n",
       " (1854, 3),\n",
       " (1858, 3),\n",
       " (1859, 6),\n",
       " (1861, 3),\n",
       " (1865, 3),\n",
       " (1869, 6),\n",
       " (1876, 3),\n",
       " (1878, 3),\n",
       " (1879, 3),\n",
       " (1880, 3),\n",
       " (1883, 3),\n",
       " (1884, 6),\n",
       " (1886, 3),\n",
       " (1887, 3),\n",
       " (1889, 3),\n",
       " (1890, 9),\n",
       " (1892, 6),\n",
       " (1894, 3),\n",
       " (1895, 9),\n",
       " (1896, 3),\n",
       " (1897, 3),\n",
       " (1898, 6),\n",
       " (1899, 5),\n",
       " (1900, 3),\n",
       " (1901, 3),\n",
       " (1902, 2),\n",
       " (1905, 3),\n",
       " (1906, 2),\n",
       " (1908, 3),\n",
       " (1911, 6),\n",
       " (1913, 2),\n",
       " (1914, 3),\n",
       " (1915, 3),\n",
       " (1920, 3),\n",
       " (1921, 2),\n",
       " (1922, 5),\n",
       " (1923, 3),\n",
       " (1950, 1),\n",
       " (1960, 1)]"
      ]
     },
     "execution_count": 57,
     "metadata": {},
     "output_type": "execute_result"
    }
   ],
   "source": [
    "#create a report to show how many books were published each year.\n",
    "cursor.execute(\"\"\"\n",
    "SELECT Published AS Year, COUNT(*) AS TotalBooks \n",
    "FROM Books \n",
    "GROUP BY Published \n",
    "ORDER BY Published ASC;\n",
    "\"\"\")\n",
    "\n",
    "cursor.fetchall()"
   ]
  },
  {
   "cell_type": "code",
   "execution_count": 58,
   "metadata": {
    "vscode": {
     "languageId": "sql"
    }
   },
   "outputs": [
    {
     "data": {
      "text/plain": [
       "[('Frankenstein; Or, The Modern Prometheus',\n",
       "  'Mary Wollstonecraft Shelley',\n",
       "  1818,\n",
       "  53),\n",
       " ('The War of the Worlds', 'H. G. Wells', 1898, 43),\n",
       " ('The Awakening, and Selected Short Stories', 'Kate Chopin', 1899, 43),\n",
       " ('The Scarlet Letter', 'Nathaniel Hawthorne', 1850, 42),\n",
       " ('The Picture of Dorian Gray', 'Oscar Wilde', 1890, 39)]"
      ]
     },
     "execution_count": 58,
     "metadata": {},
     "output_type": "execute_result"
    }
   ],
   "source": [
    "# create a report to show 5 most popular Books to check out\n",
    "cursor.execute(\"\"\"\n",
    "SELECT \n",
    "    b.Title, \n",
    "    b.Author, \n",
    "    b.Published, \n",
    "    COUNT(l.LoanID) AS TotalTimesOfLoans \n",
    "FROM Books b\n",
    "JOIN Loans l ON b.BookID = l.BookID\n",
    "GROUP BY b.Title, b.Author, b.Published\n",
    "ORDER BY TotalTimesOfLoans DESC\n",
    "LIMIT 5;\n",
    "\"\"\")\n",
    "\n",
    "cursor.fetchall()\n"
   ]
  }
 ],
 "metadata": {
  "kernelspec": {
   "display_name": "Python 3",
   "language": "python",
   "name": "python3"
  },
  "language_info": {
   "codemirror_mode": {
    "name": "ipython",
    "version": 3
   },
   "file_extension": ".py",
   "mimetype": "text/x-python",
   "name": "python",
   "nbconvert_exporter": "python",
   "pygments_lexer": "ipython3",
   "version": "3.13.2"
  }
 },
 "nbformat": 4,
 "nbformat_minor": 2
}
