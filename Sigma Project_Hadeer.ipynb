{
 "cells": [
  {
   "cell_type": "code",
   "execution_count": 13,
   "metadata": {},
   "outputs": [
    {
     "data": {
      "text/plain": [
       "<Response [200]>"
      ]
     },
     "execution_count": 13,
     "metadata": {},
     "output_type": "execute_result"
    }
   ],
   "source": [
    "import requests\n",
    "\n",
    "res = requests.get(\"https://www.sigma-computer.com/search?search=laptop&submit_search=&route=product%2Fsearch\")\n",
    "res"
   ]
  },
  {
   "cell_type": "code",
   "execution_count": 17,
   "metadata": {},
   "outputs": [
    {
     "name": "stdout",
     "output_type": "stream",
     "text": [
      "Data saved to Sigma.csv\n",
      "                                                  name          price  \\\n",
      "0    Laptop Dell Vostro 3520 - Intel Core i5 1235U ...  19199 LE20000   \n",
      "1    HP Victus16-r1062ne Intel Core i5 14450HX-RTX ...  43999 LE45000   \n",
      "2    HP Victus16-r1066ne Intel Core i5 14450HX-RTX ...  43499 LE45000   \n",
      "3    Sigma laptop Backpack(black) And LAPTOP STAND ...      449 LE650   \n",
      "4    MSI Modern 15 F13MG Laptop - Intel Core i5-133...  21749 LE24500   \n",
      "..                                                 ...            ...   \n",
      "735  G3 15-3579 Gaming Laptop - Intel Core I7 - 8GB...  15000 LE15900   \n",
      "736  G3 15-3579 Gaming Laptop - Intel Core i7 - 16G...  16000 LE20899   \n",
      "737  RAPOO 3510 Plus 2.4GHz Wireless Optical Fabric...      275 LE500   \n",
      "738  Western Digital 1TB Hard Disk Drive - 5400 RPM...    2399 LE3999   \n",
      "739  Lenovo Ideapad 320 Laptop - Intel Core i5-8250...    8900 LE8900   \n",
      "\n",
      "      availability                         image_url  \\\n",
      "0         In Stock    image/products/1735880276.webp   \n",
      "1         In Stock    image/products/1735346585.webp   \n",
      "2         In Stock    image/products/1735345237.webp   \n",
      "3         In Stock    image/products/1735010278.webp   \n",
      "4         In Stock    image/products/1734493789.webp   \n",
      "..             ...                               ...   \n",
      "735  Not Available  image/products/162003240103.webp   \n",
      "736  Not Available  image/products/162003208404.webp   \n",
      "737  Not Available  image/products/162990153006.webp   \n",
      "738  Not Available    image/products/15894528122.jpg   \n",
      "739  Not Available  image/products/162003128301.webp   \n",
      "\n",
      "                                                  link  \n",
      "0    item?id=7652&name=Laptop_Dell_Vostro_3520_-_In...  \n",
      "1    item?id=7642&name=HP_Victus16-r1062ne_Intel_Co...  \n",
      "2    item?id=7641&name=HP_Victus16-r1066ne_Intel_Co...  \n",
      "3    item?id=7638&name=Sigma_laptop_Backpack(black)...  \n",
      "4    item?id=7624&name=MSI_Modern_15_F13MG_Laptop_-...  \n",
      "..                                                 ...  \n",
      "735  item?id=271&name=G3_15-3579_Gaming_Laptop_-_In...  \n",
      "736  item?id=270&name=G3_15-3579_Gaming_Laptop_-_In...  \n",
      "737  item?id=171&name=RAPOO_3510_Plus_2.4GHz_Wirele...  \n",
      "738  item?id=148&name=Western_Digital_1TB_Hard_Disk...  \n",
      "739  item?id=81&name=Lenovo_Ideapad_320_Laptop_-_In...  \n",
      "\n",
      "[740 rows x 5 columns]\n"
     ]
    }
   ],
   "source": [
    "import requests\n",
    "from bs4 import BeautifulSoup\n",
    "import pandas as pd\n",
    "import time\n",
    "\n",
    "base_url = \"https://www.sigma-computer.com/search?search=laptop&submit_search=&route=product%2Fsearch\"\n",
    "headers = {\n",
    "    \"User-Agent\": \"Mozilla/5.0 (Windows NT 10.0; Win64; x64) AppleWebKit/537.36 (KHTML, like Gecko) Chrome/58.0.3029.110 Safari/537.3\"\n",
    "}\n",
    "\n",
    "def get_soup(url):\n",
    "    response = requests.get(url, headers=headers)\n",
    "    if response.status_code == 200:\n",
    "        return BeautifulSoup(response.content, 'html.parser')\n",
    "    else:\n",
    "        print(f\"Failed to retrieve the page. Status code: {response.status_code}\")\n",
    "        return None\n",
    "\n",
    "def scrape_page(soup):\n",
    "    products = []\n",
    "    for item in soup.find_all('div', class_='product-layout'):\n",
    "        name = item.find('h4').get_text(strip=True) if item.find('h4') else 'N/A'\n",
    "        price = item.find('p', class_='price').get_text(strip=True) if item.find('p', class_='price') else 'N/A'\n",
    "        availability = item.find('span', class_='stock').get_text(strip=True) if item.find('span', class_='stock') else 'Not Available'\n",
    "        image_url = item.find('img')['src'] if item.find('img') else 'N/A'\n",
    "        link = item.find('a')['href'] if item.find('a') else 'N/A'\n",
    "        products.append({\n",
    "            'name': name,\n",
    "            'price': price,\n",
    "            'availability': availability,\n",
    "            'image_url': image_url,\n",
    "            'link': link\n",
    "        })\n",
    "    return products\n",
    "\n",
    "def get_next_page_url(soup):\n",
    "    next_page = soup.find('a', class_='next')\n",
    "    if next_page:\n",
    "        return next_page['href']\n",
    "    return None\n",
    "\n",
    "def main():\n",
    "    all_products = []\n",
    "    url = base_url\n",
    "\n",
    "    while url:\n",
    "        soup = get_soup(url)\n",
    "        if soup:\n",
    "            products = scrape_page(soup)\n",
    "            all_products.extend(products)\n",
    "            url = get_next_page_url(soup)\n",
    "            if url:\n",
    "                url = base_url.rsplit('?', 1)[0] + url\n",
    "                # Add a delay to avoid overwhelming the server\n",
    "                time.sleep(2)\n",
    "\n",
    "    # Save to CSV\n",
    "    df = pd.DataFrame(all_products)\n",
    "    df.to_csv('Sigma.csv', index=False)\n",
    "    print(\"Data saved to Sigma.csv\")\n",
    "\n",
    "    # Read the CSV file\n",
    "    df = pd.read_csv('Sigma.csv')\n",
    "    print(df)\n",
    "\n",
    "if __name__ == \"__main__\":\n",
    "    main()\n"
   ]
  }
 ],
 "metadata": {
  "kernelspec": {
   "display_name": "base",
   "language": "python",
   "name": "python3"
  },
  "language_info": {
   "codemirror_mode": {
    "name": "ipython",
    "version": 3
   },
   "file_extension": ".py",
   "mimetype": "text/x-python",
   "name": "python",
   "nbconvert_exporter": "python",
   "pygments_lexer": "ipython3",
   "version": "3.7.6"
  }
 },
 "nbformat": 4,
 "nbformat_minor": 2
}
